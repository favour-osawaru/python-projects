{
  "cells": [
    {
      "cell_type": "markdown",
      "metadata": {
        "id": "view-in-github",
        "colab_type": "text"
      },
      "source": [
        "<a href=\"https://colab.research.google.com/github/favour-osawaru/python-projects/blob/main/us_medical_insurance_costs.ipynb\" target=\"_parent\"><img src=\"https://colab.research.google.com/assets/colab-badge.svg\" alt=\"Open In Colab\"/></a>"
      ]
    },
    {
      "cell_type": "markdown",
      "metadata": {
        "id": "ewPk1MIq8t-F"
      },
      "source": [
        "# U.S. Medical Insurance Costs"
      ]
    },
    {
      "cell_type": "markdown",
      "source": [
        "This project analyzes a US medical insurance costs dataset\n",
        "For the scope of this project i would be using intermiedate python to perform descriptive analysis to find out the following\n",
        "\n",
        "*   Find out the average age of the patients in the dataset.\n",
        "*   Analyze where a majority of the individuals are from.\n",
        "*   Look at the different costs between smokers vs. non-smokers.\n",
        "*  Figure out what the average age is for someone who has at least one child in this dataset.\n",
        "\n",
        "\n",
        "\n",
        "\n"
      ],
      "metadata": {
        "id": "fEVO4fBqqJPX"
      }
    },
    {
      "cell_type": "markdown",
      "source": [
        "**The variables in this dataset include:**\n",
        "\n",
        "\n",
        "age: Age of the primary beneficiary.\n",
        "sex: Gender of the primary beneficiary (male/female).\n",
        "bmi: Body mass index, providing an understanding of whether the individual is underweight, normal weight, overweight, or obese.\n",
        "children: Number of children/dependents covered by insurance.\n",
        "smoker: Smoking status of the individual (yes/no).\n",
        "region: Residential area of the beneficiary (northwest, southeast, southwest, northeast).\n",
        "charges: Individual medical costs billed by health insurance.\n"
      ],
      "metadata": {
        "id": "hTNrRHY0qs24"
      }
    },
    {
      "cell_type": "code",
      "source": [
        "# used to import the csv file\n",
        "import csv\n",
        "data =[]\n",
        "with open('insurance.csv', newline='') as insurance:\n",
        "    reader = csv.DictReader(insurance)\n",
        "    for row in reader:\n",
        "        data.append(row)\n",
        "\n",
        "# Display the first few rows\n",
        "for row in data[:5]:\n",
        "    print(row)"
      ],
      "metadata": {
        "colab": {
          "base_uri": "https://localhost:8080/"
        },
        "id": "MgGn68HRqLQh",
        "outputId": "336b2242-3c22-48bc-8f5d-3e66a32e6051"
      },
      "execution_count": 3,
      "outputs": [
        {
          "output_type": "stream",
          "name": "stdout",
          "text": [
            "{'age': '19', 'sex': 'female', 'bmi': '27.9', 'children': '0', 'smoker': 'yes', 'region': 'southwest', 'charges': '16884.924'}\n",
            "{'age': '18', 'sex': 'male', 'bmi': '33.77', 'children': '1', 'smoker': 'no', 'region': 'southeast', 'charges': '1725.5523'}\n",
            "{'age': '28', 'sex': 'male', 'bmi': '33', 'children': '3', 'smoker': 'no', 'region': 'southeast', 'charges': '4449.462'}\n",
            "{'age': '33', 'sex': 'male', 'bmi': '22.705', 'children': '0', 'smoker': 'no', 'region': 'northwest', 'charges': '21984.47061'}\n",
            "{'age': '32', 'sex': 'male', 'bmi': '28.88', 'children': '0', 'smoker': 'no', 'region': 'northwest', 'charges': '3866.8552'}\n"
          ]
        }
      ]
    },
    {
      "cell_type": "markdown",
      "source": [
        "Data Preprocessing:\n",
        "Convert categorical variables to numerical values."
      ],
      "metadata": {
        "id": "qFIbGhD0sZY_"
      }
    },
    {
      "cell_type": "code",
      "source": [
        "# mapping for categorical variables\n",
        "for row in data:\n",
        "    row['sex'] = 1 if row['sex'] == 'male' else 0\n",
        "    row['smoker'] = 1 if row['smoker'] == 'yes' else 0\n",
        "    row['region'] = ['southwest', 'southeast', 'northwest', 'northeast'].index(row['region'])\n",
        "\n"
      ],
      "metadata": {
        "colab": {
          "base_uri": "https://localhost:8080/",
          "height": 211
        },
        "id": "b8Dns6jysUIw",
        "outputId": "047d5595-c88d-40d9-f63e-20625a957583"
      },
      "execution_count": 6,
      "outputs": [
        {
          "output_type": "error",
          "ename": "ValueError",
          "evalue": "0 is not in list",
          "traceback": [
            "\u001b[0;31m---------------------------------------------------------------------------\u001b[0m",
            "\u001b[0;31mValueError\u001b[0m                                Traceback (most recent call last)",
            "\u001b[0;32m<ipython-input-6-94cfcf4f8923>\u001b[0m in \u001b[0;36m<cell line: 2>\u001b[0;34m()\u001b[0m\n\u001b[1;32m      3\u001b[0m     \u001b[0mrow\u001b[0m\u001b[0;34m[\u001b[0m\u001b[0;34m'sex'\u001b[0m\u001b[0;34m]\u001b[0m \u001b[0;34m=\u001b[0m \u001b[0;36m1\u001b[0m \u001b[0;32mif\u001b[0m \u001b[0mrow\u001b[0m\u001b[0;34m[\u001b[0m\u001b[0;34m'sex'\u001b[0m\u001b[0;34m]\u001b[0m \u001b[0;34m==\u001b[0m \u001b[0;34m'male'\u001b[0m \u001b[0;32melse\u001b[0m \u001b[0;36m0\u001b[0m\u001b[0;34m\u001b[0m\u001b[0;34m\u001b[0m\u001b[0m\n\u001b[1;32m      4\u001b[0m     \u001b[0mrow\u001b[0m\u001b[0;34m[\u001b[0m\u001b[0;34m'smoker'\u001b[0m\u001b[0;34m]\u001b[0m \u001b[0;34m=\u001b[0m \u001b[0;36m1\u001b[0m \u001b[0;32mif\u001b[0m \u001b[0mrow\u001b[0m\u001b[0;34m[\u001b[0m\u001b[0;34m'smoker'\u001b[0m\u001b[0;34m]\u001b[0m \u001b[0;34m==\u001b[0m \u001b[0;34m'yes'\u001b[0m \u001b[0;32melse\u001b[0m \u001b[0;36m0\u001b[0m\u001b[0;34m\u001b[0m\u001b[0;34m\u001b[0m\u001b[0m\n\u001b[0;32m----> 5\u001b[0;31m     \u001b[0mrow\u001b[0m\u001b[0;34m[\u001b[0m\u001b[0;34m'region'\u001b[0m\u001b[0;34m]\u001b[0m \u001b[0;34m=\u001b[0m \u001b[0;34m[\u001b[0m\u001b[0;34m'southwest'\u001b[0m\u001b[0;34m,\u001b[0m \u001b[0;34m'southeast'\u001b[0m\u001b[0;34m,\u001b[0m \u001b[0;34m'northwest'\u001b[0m\u001b[0;34m,\u001b[0m \u001b[0;34m'northeast'\u001b[0m\u001b[0;34m]\u001b[0m\u001b[0;34m.\u001b[0m\u001b[0mindex\u001b[0m\u001b[0;34m(\u001b[0m\u001b[0mrow\u001b[0m\u001b[0;34m[\u001b[0m\u001b[0;34m'region'\u001b[0m\u001b[0;34m]\u001b[0m\u001b[0;34m)\u001b[0m\u001b[0;34m\u001b[0m\u001b[0;34m\u001b[0m\u001b[0m\n\u001b[0m\u001b[1;32m      6\u001b[0m \u001b[0;34m\u001b[0m\u001b[0m\n\u001b[1;32m      7\u001b[0m \u001b[0;31m# Display the updated first few rows\u001b[0m\u001b[0;34m\u001b[0m\u001b[0;34m\u001b[0m\u001b[0m\n",
            "\u001b[0;31mValueError\u001b[0m: 0 is not in list"
          ]
        }
      ]
    },
    {
      "cell_type": "code",
      "source": [
        "# Display the updated first few rows\n",
        "for row in data[:5]:\n",
        "    print(row)"
      ],
      "metadata": {
        "colab": {
          "base_uri": "https://localhost:8080/"
        },
        "id": "axVbi3nas3OU",
        "outputId": "e2d16df0-8318-4c6a-c997-14c0ee984d1f"
      },
      "execution_count": 7,
      "outputs": [
        {
          "output_type": "stream",
          "name": "stdout",
          "text": [
            "{'age': '19', 'sex': 0, 'bmi': '27.9', 'children': '0', 'smoker': 0, 'region': 0, 'charges': '16884.924'}\n",
            "{'age': '18', 'sex': 1, 'bmi': '33.77', 'children': '1', 'smoker': 0, 'region': 1, 'charges': '1725.5523'}\n",
            "{'age': '28', 'sex': 1, 'bmi': '33', 'children': '3', 'smoker': 0, 'region': 1, 'charges': '4449.462'}\n",
            "{'age': '33', 'sex': 1, 'bmi': '22.705', 'children': '0', 'smoker': 0, 'region': 2, 'charges': '21984.47061'}\n",
            "{'age': '32', 'sex': 1, 'bmi': '28.88', 'children': '0', 'smoker': 0, 'region': 2, 'charges': '3866.8552'}\n"
          ]
        }
      ]
    },
    {
      "cell_type": "markdown",
      "source": [
        "Exploratory Data Analysis:\n",
        "Calculate basic descriptive statistics.\n"
      ],
      "metadata": {
        "id": "wEEx9DSQtS2N"
      }
    },
    {
      "cell_type": "code",
      "source": [
        "# Convert data to appropriate types\n",
        "for row in data:\n",
        "    row['age'] = int(row['age'])\n",
        "    row['bmi'] = float(row['bmi'])\n",
        "    row['children'] = int(row['children'])\n",
        "    row['charges'] = float(row['charges'])\n",
        "\n",
        "# Calculate mean, median, and standard deviation for numerical features\n",
        "ages = [row['age'] for row in data]\n",
        "bmis = [row['bmi'] for row in data]\n",
        "children = [row['children'] for row in data]\n",
        "charges = [row['charges'] for row in data]\n",
        "\n",
        "mean_age = sum(ages) / len(ages)\n",
        "mean_bmi = sum(bmis) / len(bmis)\n",
        "mean_children = sum(children) / len(children)\n",
        "mean_charges = sum(charges) / len(charges)\n",
        "\n",
        "print(f'Mean Age: {mean_age}')\n",
        "print(f'Mean BMI: {mean_bmi}')\n",
        "print(f'Mean Children: {mean_children}')\n",
        "print(f'Mean Charges: {mean_charges}')\n"
      ],
      "metadata": {
        "colab": {
          "base_uri": "https://localhost:8080/"
        },
        "id": "rlYD0H8TtUKx",
        "outputId": "cc75421a-3823-4eb1-c3c5-335835094d08"
      },
      "execution_count": 8,
      "outputs": [
        {
          "output_type": "stream",
          "name": "stdout",
          "text": [
            "Mean Age: 39.20702541106129\n",
            "Mean BMI: 30.663396860986538\n",
            "Mean Children: 1.0949177877429\n",
            "Mean Charges: 13270.422265141257\n"
          ]
        }
      ]
    },
    {
      "cell_type": "markdown",
      "source": [
        "Analysis of Insurance Dataset\n",
        "\n",
        "\n",
        "1. Distribution of Individuals by Region\n",
        "First, we need to determine where the majority of the individuals are from by counting the occurrences of each region."
      ],
      "metadata": {
        "id": "pW3YeltKu4vv"
      }
    },
    {
      "cell_type": "code",
      "source": [
        "# Counting individuals in each region\n",
        "region_counts = {'southwest': 0, 'southeast': 0, 'northwest': 0, 'northeast': 0}\n",
        "\n",
        "for row in data:\n",
        "    region_index = row['region']\n",
        "    region_name = ['southwest', 'southeast', 'northwest', 'northeast'][region_index]\n",
        "    region_counts[region_name] += 1\n",
        "\n",
        "# Display the counts\n",
        "for region, count in region_counts.items():\n",
        "    print(f'{region.capitalize()}: {count} individuals')\n"
      ],
      "metadata": {
        "colab": {
          "base_uri": "https://localhost:8080/"
        },
        "id": "ZabJFAj3u3lO",
        "outputId": "88c63322-fd04-45ca-86d5-4212c877475d"
      },
      "execution_count": 17,
      "outputs": [
        {
          "output_type": "stream",
          "name": "stdout",
          "text": [
            "Southwest: 325 individuals\n",
            "Southeast: 364 individuals\n",
            "Northwest: 325 individuals\n",
            "Northeast: 324 individuals\n"
          ]
        }
      ]
    },
    {
      "cell_type": "markdown",
      "source": [
        "Costs Comparison Between Smokers and Non-Smokers\n",
        "Next, we compare the costs between smokers and non-smokers by calculating the average charges for each group.\n",
        "\n"
      ],
      "metadata": {
        "id": "FGYKa_XQvJ2P"
      }
    },
    {
      "cell_type": "code",
      "source": [
        "# Separating charges for smokers and non-smokers\n",
        "smoker_charges = []\n",
        "non_smoker_charges = []\n",
        "\n",
        "for row in data:\n",
        "    if row['smoker'] == 1:\n",
        "        smoker_charges.append(row['charges'])\n",
        "    else:\n",
        "        non_smoker_charges.append(row['charges'])\n",
        "\n",
        "# Calculating average charges\n",
        "average_smoker_charges = sum(smoker_charges) / len(smoker_charges)\n",
        "average_non_smoker_charges = sum(non_smoker_charges) / len(non_smoker_charges)\n",
        "\n",
        "print(f'Average charges for smokers: ${average_smoker_charges:.2f}')\n",
        "print(f'Average charges for non-smokers: ${average_non_smoker_charges:.2f}')"
      ],
      "metadata": {
        "colab": {
          "base_uri": "https://localhost:8080/"
        },
        "id": "2UGyEI-bvJU2",
        "outputId": "d652fb6d-40e8-40d0-ff08-c5807197a508"
      },
      "execution_count": 18,
      "outputs": [
        {
          "output_type": "stream",
          "name": "stdout",
          "text": [
            "Average charges for smokers: $32105.78\n",
            "Average charges for non-smokers: $8442.20\n"
          ]
        }
      ]
    },
    {
      "cell_type": "markdown",
      "source": [
        " Average Age of Individuals with at Least One Child\n",
        "Finally, we calculate the average age of individuals who have at least one child in the dataset."
      ],
      "metadata": {
        "id": "FvN5A_YKviBp"
      }
    },
    {
      "cell_type": "code",
      "source": [
        "# Finding ages of individuals with at least one child\n",
        "ages_with_children = [row['age'] for row in data if row['children'] >= 1]\n",
        "\n",
        "# Calculating the average age\n",
        "average_age_with_children = sum(ages_with_children) / len(ages_with_children)\n",
        "\n",
        "print(f'Average age of individuals with at least one child: {average_age_with_children:.2f} years')\n"
      ],
      "metadata": {
        "colab": {
          "base_uri": "https://localhost:8080/"
        },
        "id": "fIQ2JVwuvT8D",
        "outputId": "87bc7427-142e-4ac3-9d42-b8fae961e6a6"
      },
      "execution_count": 19,
      "outputs": [
        {
          "output_type": "stream",
          "name": "stdout",
          "text": [
            "Average age of individuals with at least one child: 39.78 years\n"
          ]
        }
      ]
    }
  ],
  "metadata": {
    "kernelspec": {
      "display_name": "Python 3",
      "language": "python",
      "name": "python3"
    },
    "language_info": {
      "codemirror_mode": {
        "name": "ipython",
        "version": 3
      },
      "file_extension": ".py",
      "mimetype": "text/x-python",
      "name": "python",
      "nbconvert_exporter": "python",
      "pygments_lexer": "ipython3",
      "version": "3.7.6"
    },
    "colab": {
      "provenance": [],
      "include_colab_link": true
    }
  },
  "nbformat": 4,
  "nbformat_minor": 0
}