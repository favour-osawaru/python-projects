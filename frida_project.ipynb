{
  "cells": [
    {
      "cell_type": "markdown",
      "metadata": {
        "id": "WwPgmvi_y9Kb"
      },
      "source": [
        "# Frida Kahlo Exhibition\n",
        "\n",
        "You've been hired to work on a retrospective of Frida Kahlo's work at a major museum. Your job is to put together the audio tour, but in order to do that you need to create a list of each painting featured in the exhibit, the date it was painted, and its spot in the tour.\n",
        "\n",
        "Use your knowledge of Python lists to create a master list of each painting, its date, and its audio tour ID.\n"
      ]
    },
    {
      "cell_type": "markdown",
      "metadata": {
        "id": "AvFwMYuFy9Kc"
      },
      "source": [
        "## Task 1\n",
        "First, create a list called `paintings` and add the following titles to it:\n",
        "\n",
        "`The Two Fridas, My Dress Hangs Here, Tree of Hope, Self Portrait With Monkeys`\n"
      ]
    },
    {
      "cell_type": "code",
      "execution_count": 1,
      "metadata": {
        "collapsed": true,
        "id": "2zBL4Qt3y9Kc"
      },
      "outputs": [],
      "source": [
        "paintings = ['The Two Fridas', 'My Dress Hangs Here', 'Tree of Hope', 'Self Portrait With Monkeys']"
      ]
    },
    {
      "cell_type": "markdown",
      "metadata": {
        "id": "DEiTfHF1y9Kc"
      },
      "source": [
        "## Task 2\n",
        "\n",
        "Next, create a second list called `dates` and give it the following values:\n",
        "`1939, 1933, 1946, 1940`"
      ]
    },
    {
      "cell_type": "code",
      "execution_count": 2,
      "metadata": {
        "collapsed": true,
        "id": "l8MD-vc6y9Kc"
      },
      "outputs": [],
      "source": [
        "dates = [1939, 1933, 1946, 1940]"
      ]
    },
    {
      "cell_type": "markdown",
      "metadata": {
        "id": "VgJjB5Fjy9Kc"
      },
      "source": [
        "## Task 3\n",
        "It doesn't do much good to have the paintings without their dates, and vice versa.\n",
        "Zip together the two lists so that each painting is paired with its date and resave it to the `paintings` variable. Make sure to convert the zipped object into a list using the `list()` function. Print the results to the terminal to check your work."
      ]
    },
    {
      "cell_type": "code",
      "execution_count": 3,
      "metadata": {
        "collapsed": true,
        "id": "qkrBJSXey9Kd"
      },
      "outputs": [],
      "source": [
        "paintings = list(zip(paintings, dates))"
      ]
    },
    {
      "cell_type": "markdown",
      "metadata": {
        "id": "Y2NkridUy9Kd"
      },
      "source": [
        "## Task 4\n",
        "There were some last minute additions to the show that we need to add to our list. Append the following paintings to our `paintings` list then re-print to check they were added correctly:\n",
        "- 'The Broken Column', 1944\n",
        "- 'The Wounded Deer', 1946\n",
        "- 'Me and My Doll', 1937\n",
        "\n",
        "Hint: Make sure to append each painting individually and that you're appending them as tuples, not lists."
      ]
    },
    {
      "cell_type": "code",
      "execution_count": 4,
      "metadata": {
        "collapsed": true,
        "colab": {
          "base_uri": "https://localhost:8080/"
        },
        "id": "6qLxOBgjy9Kd",
        "outputId": "70c4f2da-d23c-4332-fbc1-50b54ca5b037"
      },
      "outputs": [
        {
          "output_type": "stream",
          "name": "stdout",
          "text": [
            "[('The Two Fridas', 1939), ('My Dress Hangs Here', 1933), ('Tree of Hope', 1946), ('Self Portrait With Monkeys', 1940), ('The Broken Column', 1944), ('The Wounded Deer', 1946), ('Me and My Doll', 1937)]\n"
          ]
        }
      ],
      "source": [
        "# appends into the paintings list\n",
        "paintings.append(('The Broken Column', 1944))\n",
        "paintings.append(('The Wounded Deer', 1946))\n",
        "paintings.append(('Me and My Doll', 1937))\n",
        "\n",
        "# prints the paintings list\n",
        "print(paintings)"
      ]
    },
    {
      "cell_type": "markdown",
      "metadata": {
        "id": "a_J5ubm4y9Kd"
      },
      "source": [
        "## Task 5\n",
        "Since each of these paintings is going to be in the audio tour, they each need a unique identification number.\n",
        "But before we assign them a number, we first need to check how many paintings there are in total.\n",
        "\n",
        "Find the length of the `paintings` list."
      ]
    },
    {
      "cell_type": "code",
      "execution_count": 5,
      "metadata": {
        "collapsed": true,
        "colab": {
          "base_uri": "https://localhost:8080/"
        },
        "id": "d8Fn-O_8y9Kd",
        "outputId": "26d20d66-06ee-40c7-a768-36a1cdebd109"
      },
      "outputs": [
        {
          "output_type": "execute_result",
          "data": {
            "text/plain": [
              "7"
            ]
          },
          "metadata": {},
          "execution_count": 5
        }
      ],
      "source": [
        "len(paintings)"
      ]
    },
    {
      "cell_type": "markdown",
      "metadata": {
        "id": "lHKFYr9ey9Kd"
      },
      "source": [
        "## Task 6\n",
        "Use the `range` method to generate a list of identification numbers that starts at 1 and is equal in length to our list of items.\n",
        "Save the list to the variable `audio_tour_number` and check your work by printing the list."
      ]
    },
    {
      "cell_type": "code",
      "execution_count": 6,
      "metadata": {
        "collapsed": true,
        "colab": {
          "base_uri": "https://localhost:8080/"
        },
        "id": "OgDX57kUy9Kd",
        "outputId": "df9dc18f-b79f-41dc-d179-38290e403d75"
      },
      "outputs": [
        {
          "output_type": "stream",
          "name": "stdout",
          "text": [
            "[1, 2, 3, 4, 5, 6, 7]\n"
          ]
        }
      ],
      "source": [
        "audio_tour_number = list(range(1, len(paintings) + 1))\n",
        "print(audio_tour_number)"
      ]
    },
    {
      "cell_type": "markdown",
      "metadata": {
        "id": "uHLctQU8y9Kd"
      },
      "source": [
        "## Task 7\n",
        "\n",
        "We're finally read to create our master list.\n",
        "Zip the `audio_tour_number` list to the `paintings` list and save it as `master_list`.\n",
        "\n",
        "Hint: Make sure to convert the zipped object into a list using the `list()` function."
      ]
    },
    {
      "cell_type": "code",
      "execution_count": 7,
      "metadata": {
        "collapsed": true,
        "colab": {
          "base_uri": "https://localhost:8080/"
        },
        "id": "Qcj574ERy9Kd",
        "outputId": "9f9d22cb-3eff-4eef-86e1-33891a30386a"
      },
      "outputs": [
        {
          "output_type": "stream",
          "name": "stdout",
          "text": [
            "[(1, ('The Two Fridas', 1939)), (2, ('My Dress Hangs Here', 1933)), (3, ('Tree of Hope', 1946)), (4, ('Self Portrait With Monkeys', 1940)), (5, ('The Broken Column', 1944)), (6, ('The Wounded Deer', 1946)), (7, ('Me and My Doll', 1937))]\n"
          ]
        }
      ],
      "source": [
        "master_list = list(zip(audio_tour_number, paintings))\n",
        "print(master_list)"
      ]
    },
    {
      "cell_type": "markdown",
      "metadata": {
        "id": "kI-wXe0My9Ke"
      },
      "source": [
        "## Task 8\n",
        "Print the `master_list` to the terminal."
      ]
    },
    {
      "cell_type": "code",
      "execution_count": 8,
      "metadata": {
        "collapsed": true,
        "colab": {
          "base_uri": "https://localhost:8080/"
        },
        "id": "-9PjyLfdy9Ke",
        "outputId": "e4c7de8e-8519-4fa3-9ece-7662d32b2db4"
      },
      "outputs": [
        {
          "output_type": "stream",
          "name": "stdout",
          "text": [
            "[(1, ('The Two Fridas', 1939)), (2, ('My Dress Hangs Here', 1933)), (3, ('Tree of Hope', 1946)), (4, ('Self Portrait With Monkeys', 1940)), (5, ('The Broken Column', 1944)), (6, ('The Wounded Deer', 1946)), (7, ('Me and My Doll', 1937))]\n"
          ]
        }
      ],
      "source": [
        "print(master_list)"
      ]
    }
  ],
  "metadata": {
    "kernelspec": {
      "display_name": "Python 3",
      "language": "python",
      "name": "python3"
    },
    "language_info": {
      "codemirror_mode": {
        "name": "ipython",
        "version": 3
      },
      "file_extension": ".py",
      "mimetype": "text/x-python",
      "name": "python",
      "nbconvert_exporter": "python",
      "pygments_lexer": "ipython3",
      "version": "3.6.2"
    },
    "colab": {
      "provenance": []
    }
  },
  "nbformat": 4,
  "nbformat_minor": 0
}